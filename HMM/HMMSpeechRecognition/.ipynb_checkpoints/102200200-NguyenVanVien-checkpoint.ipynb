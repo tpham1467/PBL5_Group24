{
 "cells": [
  {
   "cell_type": "markdown",
   "metadata": {},
   "source": [
    "# Khai báo các thư viện"
   ]
  },
  {
   "cell_type": "code",
   "execution_count": 1,
   "metadata": {
    "collapsed": true
   },
   "outputs": [],
   "source": [
    "import pandas as pd\n",
    "import matplotlib.pyplot as plt\n",
    "import numpy as np\n",
    "from sklearn.model_selection import train_test_split\n",
    "from sklearn.linear_model import LogisticRegression\n",
    "\n",
    "from sklearn.metrics import accuracy_score"
   ]
  },
  {
   "cell_type": "markdown",
   "metadata": {},
   "source": [
    "## Vẽ histogram"
   ]
  },
  {
   "cell_type": "code",
   "execution_count": 2,
   "metadata": {},
   "outputs": [],
   "source": [
    "def drawPlots(data):\n",
    "    figure = data.hist(bins=50)\n",
    "    plt.show()"
   ]
  },
  {
   "cell_type": "code",
   "execution_count": 3,
   "metadata": {},
   "outputs": [],
   "source": [
    "def Mean(df):\n",
    "    df.fillna(df.mean(), inplace=True)\n",
    "    return df"
   ]
  },
  {
   "cell_type": "code",
   "execution_count": 4,
   "metadata": {},
   "outputs": [],
   "source": [
    "def Median(df):\n",
    "    df.fillna(df.median(), inplace=True)\n",
    "    return df"
   ]
  },
  {
   "cell_type": "code",
   "execution_count": 5,
   "metadata": {},
   "outputs": [],
   "source": [
    "def ModeImputation(df):\n",
    "    df.fillna(df.mode()[0], inplace=True)\n",
    "    return df"
   ]
  },
  {
   "cell_type": "code",
   "execution_count": 6,
   "metadata": {},
   "outputs": [],
   "source": [
    "def EndOfDist(df):\n",
    "    df.fillna(df.mean() + 3 * df.std(), inplace=True)\n",
    "    return df"
   ]
  },
  {
   "cell_type": "code",
   "execution_count": 7,
   "metadata": {},
   "outputs": [],
   "source": [
    "def NewFeature(df):\n",
    "    df = np.where(df.isnull(), 1, 0)\n",
    "    df = pd.Series(df)\n",
    "    val = df.median()\n",
    "    df.fillna(val, inplace=True)\n",
    "    return df"
   ]
  },
  {
   "cell_type": "code",
   "execution_count": 8,
   "metadata": {},
   "outputs": [],
   "source": [
    "def Arbitrary(df):\n",
    "    df.fillna(60, inplace=True)\n",
    "    return df"
   ]
  },
  {
   "cell_type": "code",
   "execution_count": 9,
   "metadata": {},
   "outputs": [],
   "source": [
    "def Random(df):\n",
    "    random_samples = df.dropna().sample(n=df.isnull().sum(), random_state=0)\n",
    "    random_samples.index = df[df.isnull()].index\n",
    "    df[df.isnull()] = random_samples.values\n",
    "\n",
    "    return df"
   ]
  },
  {
   "cell_type": "code",
   "execution_count": 10,
   "metadata": {},
   "outputs": [],
   "source": [
    "def GaussDist(df):\n",
    "    upper_boundary = df.mean() + 3 * df.std()\n",
    "    lower_boundary = df.mean() - 3 * df.std()\n",
    "    df[df >= upper_boundary] = upper_boundary\n",
    "    df[df <= lower_boundary] = lower_boundary\n",
    "    return df"
   ]
  },
  {
   "cell_type": "code",
   "execution_count": 11,
   "metadata": {},
   "outputs": [],
   "source": [
    "\n",
    "def Skeweddist(df):\n",
    "    q1 = df.quantile(0.25)\n",
    "    q3 = df.quantile(0.75)\n",
    "    iqr = q3 - q1\n",
    "    upper_boundary = q3 + 1.5 * iqr\n",
    "    lower_boundary = q1 - 1.5 * iqr\n",
    "    df[df > upper_boundary] = upper_boundary\n",
    "    df[df < lower_boundary] = lower_boundary\n",
    "    return df"
   ]
  },
  {
   "cell_type": "code",
   "execution_count": 12,
   "metadata": {},
   "outputs": [],
   "source": [
    "def nonOuliers(data):\n",
    "    return data"
   ]
  },
  {
   "cell_type": "code",
   "execution_count": 13,
   "metadata": {},
   "outputs": [],
   "source": [
    "\n",
    "def accuracy():\n",
    "    impute_methods = [Mean, Median, ModeImputation, EndOfDist, NewFeature, Arbitrary, Random]\n",
    "    outlier_methods = [GaussDist, Skeweddist, nonOuliers]\n",
    "    # Tạo list các cột cần xử lý\n",
    "    cols_to_outlier = ['Age', 'Fare']\n",
    "    max = 0\n",
    "    i = 0\n",
    "    for impute_method in impute_methods:\n",
    "        data = pd.read_csv('titanic.csv', usecols=['Age', 'Fare', 'Survived'])\n",
    "        y = data['Survived']\n",
    "        for outlier_method in outlier_methods:\n",
    "            sum = 0\n",
    "            for random_state in range(10):\n",
    "                data_imputed = data[cols_to_outlier].apply(impute_method)\n",
    "                data_outlier = data_imputed[cols_to_outlier].apply(outlier_method)\n",
    "                # Tạo tập huấn luyện và tập kiểm tra\n",
    "                X_train, X_test, y_train, y_test = train_test_split(data_outlier, y, test_size=0.3,\n",
    "                                                                    random_state=random_state, stratify=y)\n",
    "\n",
    "                # Huấn luyện mô hình và tính độ chính xác\n",
    "                classifier = LogisticRegression()\n",
    "                classifier.fit(X_train, y_train)\n",
    "                y_pred = classifier.predict(X_test)\n",
    "                sum += accuracy_score(y_test, y_pred)\n",
    "            # In kết quả\n",
    "            if (sum / 10 >= max):\n",
    "                max = sum / 10\n",
    "                impute_method_max = impute_method\n",
    "                outlier_method_max = outlier_method\n",
    "                rand_state = random_state\n",
    "            print(\"================ \", i, \"=======================\")\n",
    "            print(\"Impute method:\", impute_method.__name__)\n",
    "            print(\"Outlier method:\", outlier_method.__name__)\n",
    "            print(\"Accuracy scores:\", sum / 10)\n",
    "            i = i + 1\n",
    "\n",
    "    print(\"\\n\\n***********************************\")\n",
    "    print(\"Max : \", max)\n",
    "    print(\"random_state : \", rand_state)\n",
    "    print(\"impute_method_max : \", impute_method_max.__name__)\n",
    "    print(\"outlier_method_max : \", outlier_method_max.__name__)\n"
   ]
  },
  {
   "cell_type": "code",
   "execution_count": 14,
   "metadata": {},
   "outputs": [
    {
     "name": "stdout",
     "output_type": "stream",
     "text": [
      "================  0 =======================\n",
      "Impute method: Mean\n",
      "Outlier method: GaussDist\n",
      "Accuracy scores: 0.6667910447761194\n",
      "================  1 =======================\n",
      "Impute method: Mean\n",
      "Outlier method: Skeweddist\n",
      "Accuracy scores: 0.6682835820895522\n",
      "================  2 =======================\n",
      "Impute method: Mean\n",
      "Outlier method: nonOuliers\n",
      "Accuracy scores: 0.6578358208955224\n",
      "================  3 =======================\n",
      "Impute method: Median\n",
      "Outlier method: GaussDist\n",
      "Accuracy scores: 0.6667910447761194\n",
      "================  4 =======================\n",
      "Impute method: Median\n",
      "Outlier method: Skeweddist\n",
      "Accuracy scores: 0.6664179104477612\n",
      "================  5 =======================\n",
      "Impute method: Median\n",
      "Outlier method: nonOuliers\n",
      "Accuracy scores: 0.6585820895522388\n",
      "================  6 =======================\n",
      "Impute method: ModeImputation\n",
      "Outlier method: GaussDist\n",
      "Accuracy scores: 0.6679104477611941\n",
      "================  7 =======================\n",
      "Impute method: ModeImputation\n",
      "Outlier method: Skeweddist\n",
      "Accuracy scores: 0.6679104477611941\n",
      "================  8 =======================\n",
      "Impute method: ModeImputation\n",
      "Outlier method: nonOuliers\n",
      "Accuracy scores: 0.6623134328358209\n",
      "================  9 =======================\n",
      "Impute method: EndOfDist\n",
      "Outlier method: GaussDist\n",
      "Accuracy scores: 0.6802238805970149\n",
      "================  10 =======================\n",
      "Impute method: EndOfDist\n",
      "Outlier method: Skeweddist\n",
      "Accuracy scores: 0.6705223880597015\n",
      "================  11 =======================\n",
      "Impute method: EndOfDist\n",
      "Outlier method: nonOuliers\n",
      "Accuracy scores: 0.6705223880597015\n",
      "================  12 =======================\n",
      "Impute method: NewFeature\n",
      "Outlier method: GaussDist\n",
      "Accuracy scores: 0.6156716417910448\n",
      "================  13 =======================\n",
      "Impute method: NewFeature\n",
      "Outlier method: Skeweddist\n",
      "Accuracy scores: 0.6156716417910448\n",
      "================  14 =======================\n",
      "Impute method: NewFeature\n",
      "Outlier method: nonOuliers\n",
      "Accuracy scores: 0.6156716417910448\n",
      "================  15 =======================\n",
      "Impute method: Arbitrary\n",
      "Outlier method: GaussDist\n",
      "Accuracy scores: 0.6779850746268656\n",
      "================  16 =======================\n",
      "Impute method: Arbitrary\n",
      "Outlier method: Skeweddist\n",
      "Accuracy scores: 0.6701492537313433\n",
      "================  17 =======================\n",
      "Impute method: Arbitrary\n",
      "Outlier method: nonOuliers\n",
      "Accuracy scores: 0.6690298507462688\n",
      "================  18 =======================\n",
      "Impute method: Random\n",
      "Outlier method: GaussDist\n",
      "Accuracy scores: 0.6723880597014925\n",
      "================  19 =======================\n",
      "Impute method: Random\n",
      "Outlier method: Skeweddist\n",
      "Accuracy scores: 0.673134328358209\n",
      "================  20 =======================\n",
      "Impute method: Random\n",
      "Outlier method: nonOuliers\n",
      "Accuracy scores: 0.6675373134328358\n",
      "\n",
      "\n",
      "***********************************\n",
      "Max :  0.6802238805970149\n",
      "random_state :  9\n",
      "impute_method_max :  EndOfDist\n",
      "outlier_method_max :  GaussDist\n"
     ]
    }
   ],
   "source": [
    "accuracy()"
   ]
  },
  {
   "cell_type": "markdown",
   "metadata": {},
   "source": [
    "# Độ chính xác lớn nhất : 68,02%\n",
    "## Random_state : 9\n",
    "## Kĩ thuật làm sạch tốt nhất : EndOfDist\n",
    "## Kĩ thuật xử lý ngoại lệ : GaussDist"
   ]
  },
  {
   "cell_type": "code",
   "execution_count": 15,
   "metadata": {},
   "outputs": [],
   "source": [
    "from sklearn.preprocessing import StandardScaler\n",
    "from sklearn.preprocessing import MinMaxScaler\n",
    "from sklearn.preprocessing import RobustScaler\n",
    "from sklearn.preprocessing import MaxAbsScaler\n",
    "from sklearn.preprocessing import PowerTransformer\n",
    "from sklearn.preprocessing import QuantileTransformer\n",
    "from sklearn.preprocessing import Normalizer\n",
    "\n",
    "df = pd.read_csv('titanic.csv', usecols=['Age', 'Fare', 'Survived'])\n",
    "\n",
    "\n",
    "def standardScaler(df):\n",
    "    scaler = StandardScaler()\n",
    "    df_scaled = scaler.fit_transform(df)\n",
    "    return df_scaled\n",
    "\n",
    "\n",
    "def minMaxScaler(df):\n",
    "    min_max = MinMaxScaler()\n",
    "    df_minmax = pd.DataFrame(min_max.fit_transform(df), columns=df.columns)\n",
    "    return df_minmax\n",
    "\n",
    "\n",
    "def robustScaler(df):\n",
    "    scaler = RobustScaler()\n",
    "    df_robust_scaler = pd.DataFrame(scaler.fit_transform(df), columns=df.columns)\n",
    "    return df_robust_scaler\n",
    "\n",
    "\n",
    "def maxAbsScaler(df):\n",
    "    maxAbs = MaxAbsScaler()\n",
    "    df_maxAbs_scaler = pd.DataFrame(maxAbs.fit_transform(df), columns=df.columns)\n",
    "    return df_maxAbs_scaler\n",
    "\n",
    "\n",
    "def powerTransformer(df):\n",
    "    power = PowerTransformer()\n",
    "    df_power_scaler = pd.DataFrame(power.fit_transform(df), columns=df.columns)\n",
    "    return df_power_scaler\n",
    "\n",
    "\n",
    "def quantileTransformer(df):\n",
    "    quantile = QuantileTransformer(n_quantiles=700)\n",
    "    df_quantile_scaler = pd.DataFrame(quantile.fit_transform(df), columns=df.columns)\n",
    "    return df_quantile_scaler\n",
    "\n",
    "\n",
    "def normalizer(df):\n",
    "    normal = Normalizer()\n",
    "    df_normal_scaler = pd.DataFrame(normal.fit_transform(df), columns=df.columns)\n",
    "    return df_normal_scaler"
   ]
  },
  {
   "cell_type": "code",
   "execution_count": 16,
   "metadata": {},
   "outputs": [
    {
     "name": "stdout",
     "output_type": "stream",
     "text": [
      "==========================================\n",
      "standardized_method:  standardScaler\n",
      "Accuracy_score:  0.6802238805970149\n",
      "==========================================\n",
      "standardized_method:  minMaxScaler\n",
      "Accuracy_score:  0.65\n",
      "==========================================\n",
      "standardized_method:  robustScaler\n",
      "Accuracy_score:  0.6805970149253732\n",
      "==========================================\n",
      "standardized_method:  maxAbsScaler\n",
      "Accuracy_score:  0.6503731343283582\n",
      "==========================================\n",
      "standardized_method:  powerTransformer\n",
      "Accuracy_score:  0.6764925373134327\n",
      "==========================================\n",
      "standardized_method:  quantileTransformer\n",
      "Accuracy_score:  0.6768656716417911\n"
     ]
    },
    {
     "data": {
      "image/png": "[encoded data removed]",
      "text/plain": [
       "<Figure size 640x480 with 2 Axes>"
      ]
     },
     "metadata": {},
     "output_type": "display_data"
    },
    {
     "data": {
      "image/png": "[encoded data removed]",
      "text/plain": [
       "<Figure size 640x480 with 2 Axes>"
      ]
     },
     "metadata": {},
     "output_type": "display_data"
    },
    {
     "name": "stdout",
     "output_type": "stream",
     "text": [
      "==========================================\n",
      "standardized_method:  normalizer\n",
      "Accuracy_score:  0.701865671641791\n"
     ]
    }
   ],
   "source": [
    "\n",
    "def accuracy_standardized():\n",
    "    standardized_methods = [standardScaler, minMaxScaler, robustScaler, maxAbsScaler, powerTransformer,\n",
    "                            quantileTransformer, normalizer]\n",
    "    df = pd.read_csv('titanic.csv', usecols=['Age', 'Fare', 'Survived'])\n",
    "    data_imp = df[['Age', 'Fare']].apply(EndOfDist)\n",
    "    data_outlier = data_imp.apply(GaussDist)\n",
    "    for standardized_method in standardized_methods:\n",
    "        sum = 0\n",
    "        if (standardized_method == normalizer):\n",
    "            drawPlots(data_outlier)\n",
    "        for random_state in range(10):\n",
    "            df = pd.read_csv('titanic.csv', usecols=['Age', 'Fare', 'Survived'])\n",
    "            data_imp = df[['Age', 'Fare']].apply(EndOfDist)\n",
    "            data_standard = pd.DataFrame(standardized_method(data_imp), columns=['Age', 'Fare'])\n",
    "            data_outlier = data_standard.apply(GaussDist)\n",
    "            #\n",
    "            y = df['Survived']\n",
    "            X_train, X_test, y_train, y_test = train_test_split(data_outlier, y, test_size=0.3,\n",
    "                                                                random_state=random_state, stratify=y)\n",
    "            # # Huấn luyện mô hình và tính độ chính xác\n",
    "            classifier = LogisticRegression()\n",
    "            classifier.fit(X_train, y_train)\n",
    "            y_pred = classifier.predict(X_test)\n",
    "            sum += accuracy_score(y_test, y_pred)\n",
    "        if (standardized_method == normalizer):\n",
    "            drawPlots(data_outlier)\n",
    "        print(\"==========================================\")\n",
    "        print(\"standardized_method: \", standardized_method.__name__)\n",
    "        print(\"Accuracy_score: \", sum / 10)\n",
    "\n",
    "\n",
    "accuracy_standardized()"
   ]
  },
  {
   "cell_type": "markdown",
   "metadata": {},
   "source": [
    "# Dựa trên độ chính xác của bài 1, chọn ra kĩ thuật làm sạch và xử lý ngoại lệ cho ra kết quả tốt nhất, dùng kĩ thuật biến đổi dữ liệu để cải tiến\n",
    "# Độ chính xác lớn nhất sau khi dùng kĩ thuật biến đổi dữ liệu : 70,18%\n",
    "## Cải thiện chính xác : 2,16%\n",
    "## Kĩ thuật biến đổi dữ liệu cho ra kết quả tốt nhất : normalizer"
   ]
  },
  {
   "cell_type": "markdown",
   "metadata": {},
   "source": [
    "# Chapter 8 :\n",
    "## Bai 8.1 : Tính độ chính xác trung bình của pipeline gồm các kỹ thuật xử lý đặc trưng đã chọn trong BT trước & thuật toán hồi quy logistic dùng kỹ thuật 5-fold cross validation (dùng hàm cross_validate())."
   ]
  },
  {
   "cell_type": "code",
   "execution_count": 17,
   "metadata": {},
   "outputs": [
    {
     "name": "stdout",
     "output_type": "stream",
     "text": [
      "=============================================\n",
      "StandardScaler\n",
      "Accuracy scores: [0.59776536 0.67977528 0.66292135 0.67977528 0.73033708]\n",
      "Mean accuracy: 0.6701148703785073\n",
      "=============================================\n",
      "MinMaxScaler\n",
      "Accuracy scores: [0.62011173 0.66292135 0.65730337 0.66292135 0.71348315]\n",
      "Mean accuracy: 0.6633481890653442\n",
      "=============================================\n",
      "RobustScaler\n",
      "Accuracy scores: [0.59217877 0.67977528 0.66292135 0.67977528 0.73595506]\n",
      "Mean accuracy: 0.670121147448371\n",
      "=============================================\n",
      "MaxAbsScaler\n",
      "Accuracy scores: [0.62011173 0.66292135 0.65730337 0.66292135 0.71348315]\n",
      "Mean accuracy: 0.6633481890653442\n",
      "=============================================\n",
      "PowerTransformer\n",
      "Accuracy scores: [0.58659218 0.69662921 0.66853933 0.68539326 0.71348315]\n",
      "Mean accuracy: 0.6701274245182349\n",
      "=============================================\n",
      "QuantileTransformer\n",
      "Accuracy scores: [0.58659218 0.69662921 0.6741573  0.69662921 0.69662921]\n",
      "Mean accuracy: 0.6701274245182349\n",
      "=============================================\n",
      "Normalizer\n",
      "Accuracy scores: [0.59217877 0.71348315 0.69662921 0.70224719 0.74719101]\n",
      "Mean accuracy: 0.6903458665494948\n"
     ]
    }
   ],
   "source": [
    "import pandas as pd\n",
    "from sklearn.linear_model import LogisticRegression\n",
    "from sklearn.pipeline import make_pipeline\n",
    "from sklearn.preprocessing import StandardScaler\n",
    "from sklearn.model_selection import KFold\n",
    "from sklearn.model_selection import cross_validate\n",
    "from sklearn.preprocessing import Normalizer\n",
    "\n",
    "# Đọc dữ liệu từ tập tin Titanic dataset\n",
    "df = pd.read_csv('titanic.csv')\n",
    "\n",
    "# Giữ lại các cột \"Age\", \"Fare\" và \"Survived\"\n",
    "df = df[['Age', 'Fare', 'Survived']]\n",
    "\n",
    "df = df.apply(EndOfDist)\n",
    "df = df.apply(GaussDist)\n",
    "\n",
    "X = df[['Age', 'Fare']]\n",
    "y = df['Survived']\n",
    "\n",
    "standardized_methods = [StandardScaler(), MinMaxScaler(), RobustScaler(), MaxAbsScaler(), PowerTransformer(),\n",
    "                        QuantileTransformer(n_quantiles=700), Normalizer()]\n",
    "for standardized_method in standardized_methods:\n",
    "    pipe = make_pipeline(\n",
    "        standardized_method,\n",
    "        LogisticRegression()\n",
    "    )\n",
    "    kf = KFold(n_splits=5, shuffle=False, random_state=None)\n",
    "    # Sử dụng hàm cross_validate() để đánh giá mô hình\n",
    "    cv_results = cross_validate(pipe, X, y, cv=kf)\n",
    "    print(\"=============================================\")\n",
    "    print(standardized_method.__class__.__name__)\n",
    "    print('Accuracy scores:', cv_results['test_score'])\n",
    "    print('Mean accuracy:', cv_results['test_score'].mean())\n"
   ]
  },
  {
   "cell_type": "markdown",
   "metadata": {},
   "source": [
    "# Độ chính xác trung bình lớn nhất là Normalizer: 69,03%\n",
    "## Độ chính xác bị giảm 1,15% so với độ chính xác sau khi biến đổi dữ liệu theo kĩ thuật Normalizerở bài 5.2"
   ]
  },
  {
   "cell_type": "markdown",
   "metadata": {},
   "source": [
    "# Chapter 8 :\n",
    "## Bai 8.2 : Thử nghiệm quá trình xây dựng và đánh giá mô hình hồi quy logistic"
   ]
  },
  {
   "cell_type": "code",
   "execution_count": 18,
   "metadata": {},
   "outputs": [
    {
     "name": "stderr",
     "output_type": "stream",
     "text": [
      "C:\\Users\\ADMIN\\AppData\\Local\\Programs\\Python\\Python310\\lib\\site-packages\\sklearn\\linear_model\\_logistic.py:1173: FutureWarning: `penalty='none'`has been deprecated in 1.2 and will be removed in 1.4. To keep the past behaviour, set `penalty=None`.\n",
      "  warnings.warn(\n",
      "C:\\Users\\ADMIN\\AppData\\Local\\Programs\\Python\\Python310\\lib\\site-packages\\sklearn\\linear_model\\_logistic.py:1181: UserWarning: Setting penalty=None will ignore the C and l1_ratio parameters\n",
      "  warnings.warn(\n",
      "C:\\Users\\ADMIN\\AppData\\Local\\Programs\\Python\\Python310\\lib\\site-packages\\sklearn\\linear_model\\_logistic.py:1173: FutureWarning: `penalty='none'`has been deprecated in 1.2 and will be removed in 1.4. To keep the past behaviour, set `penalty=None`.\n",
      "  warnings.warn(\n",
      "C:\\Users\\ADMIN\\AppData\\Local\\Programs\\Python\\Python310\\lib\\site-packages\\sklearn\\linear_model\\_logistic.py:1181: UserWarning: Setting penalty=None will ignore the C and l1_ratio parameters\n",
      "  warnings.warn(\n",
      "C:\\Users\\ADMIN\\AppData\\Local\\Programs\\Python\\Python310\\lib\\site-packages\\sklearn\\linear_model\\_logistic.py:1173: FutureWarning: `penalty='none'`has been deprecated in 1.2 and will be removed in 1.4. To keep the past behaviour, set `penalty=None`.\n",
      "  warnings.warn(\n",
      "C:\\Users\\ADMIN\\AppData\\Local\\Programs\\Python\\Python310\\lib\\site-packages\\sklearn\\linear_model\\_logistic.py:1181: UserWarning: Setting penalty=None will ignore the C and l1_ratio parameters\n",
      "  warnings.warn(\n",
      "C:\\Users\\ADMIN\\AppData\\Local\\Programs\\Python\\Python310\\lib\\site-packages\\sklearn\\linear_model\\_logistic.py:1173: FutureWarning: `penalty='none'`has been deprecated in 1.2 and will be removed in 1.4. To keep the past behaviour, set `penalty=None`.\n",
      "  warnings.warn(\n",
      "C:\\Users\\ADMIN\\AppData\\Local\\Programs\\Python\\Python310\\lib\\site-packages\\sklearn\\linear_model\\_logistic.py:1181: UserWarning: Setting penalty=None will ignore the C and l1_ratio parameters\n",
      "  warnings.warn(\n",
      "C:\\Users\\ADMIN\\AppData\\Local\\Programs\\Python\\Python310\\lib\\site-packages\\sklearn\\linear_model\\_logistic.py:1173: FutureWarning: `penalty='none'`has been deprecated in 1.2 and will be removed in 1.4. To keep the past behaviour, set `penalty=None`.\n",
      "  warnings.warn(\n",
      "C:\\Users\\ADMIN\\AppData\\Local\\Programs\\Python\\Python310\\lib\\site-packages\\sklearn\\linear_model\\_logistic.py:1181: UserWarning: Setting penalty=None will ignore the C and l1_ratio parameters\n",
      "  warnings.warn(\n",
      "C:\\Users\\ADMIN\\AppData\\Local\\Programs\\Python\\Python310\\lib\\site-packages\\sklearn\\linear_model\\_logistic.py:1173: FutureWarning: `penalty='none'`has been deprecated in 1.2 and will be removed in 1.4. To keep the past behaviour, set `penalty=None`.\n",
      "  warnings.warn(\n",
      "C:\\Users\\ADMIN\\AppData\\Local\\Programs\\Python\\Python310\\lib\\site-packages\\sklearn\\linear_model\\_logistic.py:1181: UserWarning: Setting penalty=None will ignore the C and l1_ratio parameters\n",
      "  warnings.warn(\n",
      "C:\\Users\\ADMIN\\AppData\\Local\\Programs\\Python\\Python310\\lib\\site-packages\\sklearn\\linear_model\\_logistic.py:1173: FutureWarning: `penalty='none'`has been deprecated in 1.2 and will be removed in 1.4. To keep the past behaviour, set `penalty=None`.\n",
      "  warnings.warn(\n",
      "C:\\Users\\ADMIN\\AppData\\Local\\Programs\\Python\\Python310\\lib\\site-packages\\sklearn\\linear_model\\_logistic.py:1181: UserWarning: Setting penalty=None will ignore the C and l1_ratio parameters\n",
      "  warnings.warn(\n",
      "C:\\Users\\ADMIN\\AppData\\Local\\Programs\\Python\\Python310\\lib\\site-packages\\sklearn\\linear_model\\_logistic.py:1173: FutureWarning: `penalty='none'`has been deprecated in 1.2 and will be removed in 1.4. To keep the past behaviour, set `penalty=None`.\n",
      "  warnings.warn(\n",
      "C:\\Users\\ADMIN\\AppData\\Local\\Programs\\Python\\Python310\\lib\\site-packages\\sklearn\\linear_model\\_logistic.py:1181: UserWarning: Setting penalty=None will ignore the C and l1_ratio parameters\n",
      "  warnings.warn(\n",
      "C:\\Users\\ADMIN\\AppData\\Local\\Programs\\Python\\Python310\\lib\\site-packages\\sklearn\\linear_model\\_logistic.py:1173: FutureWarning: `penalty='none'`has been deprecated in 1.2 and will be removed in 1.4. To keep the past behaviour, set `penalty=None`.\n",
      "  warnings.warn(\n",
      "C:\\Users\\ADMIN\\AppData\\Local\\Programs\\Python\\Python310\\lib\\site-packages\\sklearn\\linear_model\\_logistic.py:1181: UserWarning: Setting penalty=None will ignore the C and l1_ratio parameters\n",
      "  warnings.warn(\n",
      "C:\\Users\\ADMIN\\AppData\\Local\\Programs\\Python\\Python310\\lib\\site-packages\\sklearn\\linear_model\\_logistic.py:1173: FutureWarning: `penalty='none'`has been deprecated in 1.2 and will be removed in 1.4. To keep the past behaviour, set `penalty=None`.\n",
      "  warnings.warn(\n",
      "C:\\Users\\ADMIN\\AppData\\Local\\Programs\\Python\\Python310\\lib\\site-packages\\sklearn\\linear_model\\_logistic.py:1181: UserWarning: Setting penalty=None will ignore the C and l1_ratio parameters\n",
      "  warnings.warn(\n",
      "C:\\Users\\ADMIN\\AppData\\Local\\Programs\\Python\\Python310\\lib\\site-packages\\sklearn\\linear_model\\_logistic.py:1173: FutureWarning: `penalty='none'`has been deprecated in 1.2 and will be removed in 1.4. To keep the past behaviour, set `penalty=None`.\n",
      "  warnings.warn(\n",
      "C:\\Users\\ADMIN\\AppData\\Local\\Programs\\Python\\Python310\\lib\\site-packages\\sklearn\\linear_model\\_logistic.py:1181: UserWarning: Setting penalty=None will ignore the C and l1_ratio parameters\n",
      "  warnings.warn(\n",
      "C:\\Users\\ADMIN\\AppData\\Local\\Programs\\Python\\Python310\\lib\\site-packages\\sklearn\\linear_model\\_logistic.py:1173: FutureWarning: `penalty='none'`has been deprecated in 1.2 and will be removed in 1.4. To keep the past behaviour, set `penalty=None`.\n",
      "  warnings.warn(\n",
      "C:\\Users\\ADMIN\\AppData\\Local\\Programs\\Python\\Python310\\lib\\site-packages\\sklearn\\linear_model\\_logistic.py:1181: UserWarning: Setting penalty=None will ignore the C and l1_ratio parameters\n",
      "  warnings.warn(\n",
      "C:\\Users\\ADMIN\\AppData\\Local\\Programs\\Python\\Python310\\lib\\site-packages\\sklearn\\linear_model\\_logistic.py:1173: FutureWarning: `penalty='none'`has been deprecated in 1.2 and will be removed in 1.4. To keep the past behaviour, set `penalty=None`.\n",
      "  warnings.warn(\n",
      "C:\\Users\\ADMIN\\AppData\\Local\\Programs\\Python\\Python310\\lib\\site-packages\\sklearn\\linear_model\\_logistic.py:1181: UserWarning: Setting penalty=None will ignore the C and l1_ratio parameters\n",
      "  warnings.warn(\n",
      "C:\\Users\\ADMIN\\AppData\\Local\\Programs\\Python\\Python310\\lib\\site-packages\\sklearn\\linear_model\\_logistic.py:1173: FutureWarning: `penalty='none'`has been deprecated in 1.2 and will be removed in 1.4. To keep the past behaviour, set `penalty=None`.\n",
      "  warnings.warn(\n",
      "C:\\Users\\ADMIN\\AppData\\Local\\Programs\\Python\\Python310\\lib\\site-packages\\sklearn\\linear_model\\_logistic.py:1181: UserWarning: Setting penalty=None will ignore the C and l1_ratio parameters\n",
      "  warnings.warn(\n",
      "C:\\Users\\ADMIN\\AppData\\Local\\Programs\\Python\\Python310\\lib\\site-packages\\sklearn\\linear_model\\_logistic.py:1173: FutureWarning: `penalty='none'`has been deprecated in 1.2 and will be removed in 1.4. To keep the past behaviour, set `penalty=None`.\n",
      "  warnings.warn(\n",
      "C:\\Users\\ADMIN\\AppData\\Local\\Programs\\Python\\Python310\\lib\\site-packages\\sklearn\\linear_model\\_logistic.py:1181: UserWarning: Setting penalty=None will ignore the C and l1_ratio parameters\n",
      "  warnings.warn(\n",
      "C:\\Users\\ADMIN\\AppData\\Local\\Programs\\Python\\Python310\\lib\\site-packages\\sklearn\\linear_model\\_logistic.py:1173: FutureWarning: `penalty='none'`has been deprecated in 1.2 and will be removed in 1.4. To keep the past behaviour, set `penalty=None`.\n",
      "  warnings.warn(\n",
      "C:\\Users\\ADMIN\\AppData\\Local\\Programs\\Python\\Python310\\lib\\site-packages\\sklearn\\linear_model\\_logistic.py:1173: FutureWarning: `penalty='none'`has been deprecated in 1.2 and will be removed in 1.4. To keep the past behaviour, set `penalty=None`.\n",
      "  warnings.warn(\n",
      "C:\\Users\\ADMIN\\AppData\\Local\\Programs\\Python\\Python310\\lib\\site-packages\\sklearn\\linear_model\\_logistic.py:1173: FutureWarning: `penalty='none'`has been deprecated in 1.2 and will be removed in 1.4. To keep the past behaviour, set `penalty=None`.\n",
      "  warnings.warn(\n",
      "C:\\Users\\ADMIN\\AppData\\Local\\Programs\\Python\\Python310\\lib\\site-packages\\sklearn\\linear_model\\_logistic.py:1173: FutureWarning: `penalty='none'`has been deprecated in 1.2 and will be removed in 1.4. To keep the past behaviour, set `penalty=None`.\n",
      "  warnings.warn(\n",
      "C:\\Users\\ADMIN\\AppData\\Local\\Programs\\Python\\Python310\\lib\\site-packages\\sklearn\\linear_model\\_logistic.py:1173: FutureWarning: `penalty='none'`has been deprecated in 1.2 and will be removed in 1.4. To keep the past behaviour, set `penalty=None`.\n",
      "  warnings.warn(\n"
     ]
    },
    {
     "name": "stdout",
     "output_type": "stream",
     "text": [
      "Best parameters: {'logisticregression__C': 1, 'logisticregression__penalty': 'l2'}\n",
      "Accuracy on test set: 0.7052238805970149\n"
     ]
    },
    {
     "name": "stderr",
     "output_type": "stream",
     "text": [
      "C:\\Users\\ADMIN\\AppData\\Local\\Programs\\Python\\Python310\\lib\\site-packages\\sklearn\\linear_model\\_logistic.py:1173: FutureWarning: `penalty='none'`has been deprecated in 1.2 and will be removed in 1.4. To keep the past behaviour, set `penalty=None`.\n",
      "  warnings.warn(\n",
      "C:\\Users\\ADMIN\\AppData\\Local\\Programs\\Python\\Python310\\lib\\site-packages\\sklearn\\linear_model\\_logistic.py:1181: UserWarning: Setting penalty=None will ignore the C and l1_ratio parameters\n",
      "  warnings.warn(\n",
      "C:\\Users\\ADMIN\\AppData\\Local\\Programs\\Python\\Python310\\lib\\site-packages\\sklearn\\linear_model\\_logistic.py:1173: FutureWarning: `penalty='none'`has been deprecated in 1.2 and will be removed in 1.4. To keep the past behaviour, set `penalty=None`.\n",
      "  warnings.warn(\n",
      "C:\\Users\\ADMIN\\AppData\\Local\\Programs\\Python\\Python310\\lib\\site-packages\\sklearn\\linear_model\\_logistic.py:1181: UserWarning: Setting penalty=None will ignore the C and l1_ratio parameters\n",
      "  warnings.warn(\n",
      "C:\\Users\\ADMIN\\AppData\\Local\\Programs\\Python\\Python310\\lib\\site-packages\\sklearn\\linear_model\\_logistic.py:1173: FutureWarning: `penalty='none'`has been deprecated in 1.2 and will be removed in 1.4. To keep the past behaviour, set `penalty=None`.\n",
      "  warnings.warn(\n",
      "C:\\Users\\ADMIN\\AppData\\Local\\Programs\\Python\\Python310\\lib\\site-packages\\sklearn\\linear_model\\_logistic.py:1181: UserWarning: Setting penalty=None will ignore the C and l1_ratio parameters\n",
      "  warnings.warn(\n",
      "C:\\Users\\ADMIN\\AppData\\Local\\Programs\\Python\\Python310\\lib\\site-packages\\sklearn\\linear_model\\_logistic.py:1173: FutureWarning: `penalty='none'`has been deprecated in 1.2 and will be removed in 1.4. To keep the past behaviour, set `penalty=None`.\n",
      "  warnings.warn(\n",
      "C:\\Users\\ADMIN\\AppData\\Local\\Programs\\Python\\Python310\\lib\\site-packages\\sklearn\\linear_model\\_logistic.py:1181: UserWarning: Setting penalty=None will ignore the C and l1_ratio parameters\n",
      "  warnings.warn(\n",
      "C:\\Users\\ADMIN\\AppData\\Local\\Programs\\Python\\Python310\\lib\\site-packages\\sklearn\\linear_model\\_logistic.py:1173: FutureWarning: `penalty='none'`has been deprecated in 1.2 and will be removed in 1.4. To keep the past behaviour, set `penalty=None`.\n",
      "  warnings.warn(\n",
      "C:\\Users\\ADMIN\\AppData\\Local\\Programs\\Python\\Python310\\lib\\site-packages\\sklearn\\linear_model\\_logistic.py:1181: UserWarning: Setting penalty=None will ignore the C and l1_ratio parameters\n",
      "  warnings.warn(\n",
      "C:\\Users\\ADMIN\\AppData\\Local\\Programs\\Python\\Python310\\lib\\site-packages\\sklearn\\model_selection\\_validation.py:378: FitFailedWarning: \n",
      "25 fits failed out of a total of 75.\n",
      "The score on these train-test partitions for these parameters will be set to nan.\n",
      "If these failures are not expected, you can try to debug them by setting error_score='raise'.\n",
      "\n",
      "Below are more details about the failures:\n",
      "--------------------------------------------------------------------------------\n",
      "25 fits failed with the following error:\n",
      "Traceback (most recent call last):\n",
      "  File \"C:\\Users\\ADMIN\\AppData\\Local\\Programs\\Python\\Python310\\lib\\site-packages\\sklearn\\model_selection\\_validation.py\", line 686, in _fit_and_score\n",
      "    estimator.fit(X_train, y_train, **fit_params)\n",
      "  File \"C:\\Users\\ADMIN\\AppData\\Local\\Programs\\Python\\Python310\\lib\\site-packages\\sklearn\\pipeline.py\", line 405, in fit\n",
      "    self._final_estimator.fit(Xt, y, **fit_params_last_step)\n",
      "  File \"C:\\Users\\ADMIN\\AppData\\Local\\Programs\\Python\\Python310\\lib\\site-packages\\sklearn\\linear_model\\_logistic.py\", line 1162, in fit\n",
      "    solver = _check_solver(self.solver, self.penalty, self.dual)\n",
      "  File \"C:\\Users\\ADMIN\\AppData\\Local\\Programs\\Python\\Python310\\lib\\site-packages\\sklearn\\linear_model\\_logistic.py\", line 54, in _check_solver\n",
      "    raise ValueError(\n",
      "ValueError: Solver lbfgs supports only 'l2' or 'none' penalties, got l1 penalty.\n",
      "\n",
      "  warnings.warn(some_fits_failed_message, FitFailedWarning)\n",
      "C:\\Users\\ADMIN\\AppData\\Local\\Programs\\Python\\Python310\\lib\\site-packages\\sklearn\\model_selection\\_search.py:952: UserWarning: One or more of the test scores are non-finite: [       nan 0.61637419 0.68545806        nan 0.61637419 0.68545806\n",
      "        nan 0.67745806 0.68545806        nan 0.69668387 0.68545806\n",
      "        nan 0.68707097 0.68545806]\n",
      "  warnings.warn(\n"
     ]
    }
   ],
   "source": [
    "from sklearn.model_selection import train_test_split, GridSearchCV\n",
    "\n",
    "# Chia bộ dữ liệu thành Training set và Test set dùng kỹ thuật Hold-out with Stratified sampling (chỉ thực hiện 1 lần với tỉ lệ Train:Test = 7:3)\n",
    "X_train, X_test, y_train, y_test = train_test_split(X, y, random_state=0, test_size=0.3, stratify=y)\n",
    "pipe = make_pipeline(\n",
    "        Normalizer(),\n",
    "        LogisticRegression()\n",
    "    )\n",
    "# Tìm kiếm bộ siêu tham số tốt nhất cho mô hình hồi quy logistic\n",
    "params = {'logisticregression__penalty': ['l1', 'l2', 'none'],\n",
    "          'logisticregression__C': [0.001, 0.01, 0.1, 1, 10]}\n",
    "grid_search = GridSearchCV(pipe, params, cv=5)\n",
    "#Huấn luyện mô hình với bộ siêu tham số tối ưu dùng Training set\n",
    "grid_search.fit(X_train, y_train)\n",
    "\n",
    "# In ra bộ siêu tham số tốt nhất và độ chính xác trên tập kiểm tra\n",
    "print('Best parameters:', grid_search.best_params_)\n",
    "y_pred = grid_search.predict(X_test)\n",
    "#Tính độ chính xác dự đoán của mô hình đã xây dựng trên Test set\n",
    "accuracy = accuracy_score(y_test, y_pred)\n",
    "print('Accuracy on test set:', accuracy)"
   ]
  },
  {
   "cell_type": "markdown",
   "metadata": {},
   "source": [
    "## Độ chính xác tìm được : 70.52%\n",
    "## Độ chính xác được cải thiện 0,34% so với độ chính xác sau khi biến đổi dữ liệu theo kĩ thuật Normalizer\n",
    "## Độ chính xác được cải thiện 1,49% so với độ chính xác trung bình của pipeline"
   ]
  },
  {
   "cell_type": "markdown",
   "metadata": {},
   "source": [
    "# Kết luận : Bước biến đổi dữ liệu (kĩ thuật Normalizer) và Thử nghiệm quá trình xây dựng và đánh giá mô hình hồi quy logistic:  mang lại cải tiến đáng kể nhất"
   ]
  }
 ],
 "metadata": {
  "kernelspec": {
   "display_name": "Python 3 (ipykernel)",
   "language": "python",
   "name": "python3"
  },
  "language_info": {
   "codemirror_mode": {
    "name": "ipython",
    "version": 3
   },
   "file_extension": ".py",
   "mimetype": "text/x-python",
   "name": "python",
   "nbconvert_exporter": "python",
   "pygments_lexer": "ipython3",
   "version": "3.10.7"
  }
 },
 "nbformat": 4,
 "nbformat_minor": 1
}
